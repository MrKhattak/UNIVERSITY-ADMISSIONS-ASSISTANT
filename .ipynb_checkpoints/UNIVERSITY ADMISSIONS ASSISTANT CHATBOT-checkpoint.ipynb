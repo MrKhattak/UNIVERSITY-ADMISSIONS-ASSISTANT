{
 "cells": [
  {
   "cell_type": "markdown",
   "metadata": {},
   "source": [
    "A ChatBot is created using NLP and Deep Learning, to guide students to see which universities are offering admissions as per their secured marks."
   ]
  },
  {
   "cell_type": "markdown",
   "metadata": {},
   "source": [
    "## Installing Required Libraries"
   ]
  },
  {
   "cell_type": "code",
   "execution_count": 1,
   "metadata": {},
   "outputs": [
    {
     "name": "stdout",
     "output_type": "stream",
     "text": [
      "Requirement already satisfied: pip in c:\\users\\muhammad arham\\anaconda3\\lib\\site-packages (21.0.1)\n"
     ]
    }
   ],
   "source": [
    "!pip install --upgrade pip"
   ]
  },
  {
   "cell_type": "code",
   "execution_count": 6,
   "metadata": {},
   "outputs": [
    {
     "name": "stdout",
     "output_type": "stream",
     "text": [
      "Requirement already satisfied: tensorflow in c:\\users\\muhammad arham\\appdata\\roaming\\python\\python38\\site-packages (2.4.1)\n",
      "Requirement already satisfied: wrapt~=1.12.1 in c:\\users\\muhammad arham\\appdata\\roaming\\python\\python38\\site-packages (from tensorflow) (1.12.1)\n",
      "Requirement already satisfied: grpcio~=1.32.0 in c:\\users\\muhammad arham\\appdata\\roaming\\python\\python38\\site-packages (from tensorflow) (1.32.0)\n",
      "Requirement already satisfied: six~=1.15.0 in c:\\users\\muhammad arham\\anaconda3\\lib\\site-packages (from tensorflow) (1.15.0)\n",
      "Requirement already satisfied: typing-extensions~=3.7.4 in c:\\users\\muhammad arham\\anaconda3\\lib\\site-packages (from tensorflow) (3.7.4.3)\n",
      "Requirement already satisfied: tensorflow-estimator<2.5.0,>=2.4.0 in c:\\users\\muhammad arham\\appdata\\roaming\\python\\python38\\site-packages (from tensorflow) (2.4.0)\n",
      "Requirement already satisfied: wheel~=0.35 in c:\\users\\muhammad arham\\anaconda3\\lib\\site-packages (from tensorflow) (0.35.1)\n",
      "Requirement already satisfied: numpy~=1.19.2 in c:\\users\\muhammad arham\\anaconda3\\lib\\site-packages (from tensorflow) (1.19.2)\n",
      "Requirement already satisfied: flatbuffers~=1.12.0 in c:\\users\\muhammad arham\\appdata\\roaming\\python\\python38\\site-packages (from tensorflow) (1.12)\n",
      "Requirement already satisfied: absl-py~=0.10 in c:\\users\\muhammad arham\\appdata\\roaming\\python\\python38\\site-packages (from tensorflow) (0.12.0)\n",
      "Requirement already satisfied: astunparse~=1.6.3 in c:\\users\\muhammad arham\\appdata\\roaming\\python\\python38\\site-packages (from tensorflow) (1.6.3)\n",
      "Requirement already satisfied: keras-preprocessing~=1.1.2 in c:\\users\\muhammad arham\\appdata\\roaming\\python\\python38\\site-packages (from tensorflow) (1.1.2)\n",
      "Requirement already satisfied: google-pasta~=0.2 in c:\\users\\muhammad arham\\appdata\\roaming\\python\\python38\\site-packages (from tensorflow) (0.2.0)\n",
      "Requirement already satisfied: protobuf>=3.9.2 in c:\\users\\muhammad arham\\appdata\\roaming\\python\\python38\\site-packages (from tensorflow) (3.15.6)\n",
      "Requirement already satisfied: termcolor~=1.1.0 in c:\\users\\muhammad arham\\appdata\\roaming\\python\\python38\\site-packages (from tensorflow) (1.1.0)\n",
      "Requirement already satisfied: opt-einsum~=3.3.0 in c:\\users\\muhammad arham\\appdata\\roaming\\python\\python38\\site-packages (from tensorflow) (3.3.0)\n",
      "Requirement already satisfied: tensorboard~=2.4 in c:\\users\\muhammad arham\\appdata\\roaming\\python\\python38\\site-packages (from tensorflow) (2.4.1)\n",
      "Requirement already satisfied: h5py~=2.10.0 in c:\\users\\muhammad arham\\anaconda3\\lib\\site-packages (from tensorflow) (2.10.0)\n",
      "Requirement already satisfied: gast==0.3.3 in c:\\users\\muhammad arham\\appdata\\roaming\\python\\python38\\site-packages (from tensorflow) (0.3.3)\n",
      "Requirement already satisfied: setuptools>=41.0.0 in c:\\users\\muhammad arham\\anaconda3\\lib\\site-packages (from tensorboard~=2.4->tensorflow) (50.3.1.post20201107)\n",
      "Requirement already satisfied: werkzeug>=0.11.15 in c:\\users\\muhammad arham\\anaconda3\\lib\\site-packages (from tensorboard~=2.4->tensorflow) (1.0.1)\n",
      "Requirement already satisfied: tensorboard-plugin-wit>=1.6.0 in c:\\users\\muhammad arham\\appdata\\roaming\\python\\python38\\site-packages (from tensorboard~=2.4->tensorflow) (1.8.0)\n",
      "Requirement already satisfied: google-auth<2,>=1.6.3 in c:\\users\\muhammad arham\\appdata\\roaming\\python\\python38\\site-packages (from tensorboard~=2.4->tensorflow) (1.28.0)\n",
      "Requirement already satisfied: markdown>=2.6.8 in c:\\users\\muhammad arham\\appdata\\roaming\\python\\python38\\site-packages (from tensorboard~=2.4->tensorflow) (3.3.4)\n",
      "Requirement already satisfied: google-auth-oauthlib<0.5,>=0.4.1 in c:\\users\\muhammad arham\\appdata\\roaming\\python\\python38\\site-packages (from tensorboard~=2.4->tensorflow) (0.4.3)\n",
      "Requirement already satisfied: requests<3,>=2.21.0 in c:\\users\\muhammad arham\\anaconda3\\lib\\site-packages (from tensorboard~=2.4->tensorflow) (2.24.0)\n",
      "Requirement already satisfied: cachetools<5.0,>=2.0.0 in c:\\users\\muhammad arham\\appdata\\roaming\\python\\python38\\site-packages (from google-auth<2,>=1.6.3->tensorboard~=2.4->tensorflow) (4.2.1)\n",
      "Requirement already satisfied: rsa<5,>=3.1.4 in c:\\users\\muhammad arham\\appdata\\roaming\\python\\python38\\site-packages (from google-auth<2,>=1.6.3->tensorboard~=2.4->tensorflow) (4.7.2)\n",
      "Requirement already satisfied: pyasn1-modules>=0.2.1 in c:\\users\\muhammad arham\\appdata\\roaming\\python\\python38\\site-packages (from google-auth<2,>=1.6.3->tensorboard~=2.4->tensorflow) (0.2.8)\n",
      "Requirement already satisfied: requests-oauthlib>=0.7.0 in c:\\users\\muhammad arham\\appdata\\roaming\\python\\python38\\site-packages (from google-auth-oauthlib<0.5,>=0.4.1->tensorboard~=2.4->tensorflow) (1.3.0)\n",
      "Requirement already satisfied: pyasn1<0.5.0,>=0.4.6 in c:\\users\\muhammad arham\\appdata\\roaming\\python\\python38\\site-packages (from pyasn1-modules>=0.2.1->google-auth<2,>=1.6.3->tensorboard~=2.4->tensorflow) (0.4.8)\n",
      "Requirement already satisfied: certifi>=2017.4.17 in c:\\users\\muhammad arham\\anaconda3\\lib\\site-packages (from requests<3,>=2.21.0->tensorboard~=2.4->tensorflow) (2020.6.20)\n",
      "Requirement already satisfied: chardet<4,>=3.0.2 in c:\\users\\muhammad arham\\anaconda3\\lib\\site-packages (from requests<3,>=2.21.0->tensorboard~=2.4->tensorflow) (3.0.4)\n",
      "Requirement already satisfied: urllib3!=1.25.0,!=1.25.1,<1.26,>=1.21.1 in c:\\users\\muhammad arham\\anaconda3\\lib\\site-packages (from requests<3,>=2.21.0->tensorboard~=2.4->tensorflow) (1.25.11)\n",
      "Requirement already satisfied: idna<3,>=2.5 in c:\\users\\muhammad arham\\anaconda3\\lib\\site-packages (from requests<3,>=2.21.0->tensorboard~=2.4->tensorflow) (2.10)\n",
      "Requirement already satisfied: oauthlib>=3.0.0 in c:\\users\\muhammad arham\\appdata\\roaming\\python\\python38\\site-packages (from requests-oauthlib>=0.7.0->google-auth-oauthlib<0.5,>=0.4.1->tensorboard~=2.4->tensorflow) (3.1.0)\n"
     ]
    }
   ],
   "source": [
    "!pip install --upgrade tensorflow"
   ]
  },
  {
   "cell_type": "code",
   "execution_count": 7,
   "metadata": {},
   "outputs": [],
   "source": [
    "# pip install --upgrade tensorflow"
   ]
  },
  {
   "cell_type": "code",
   "execution_count": 4,
   "metadata": {},
   "outputs": [],
   "source": [
    "# !pip3 install --user --upgrade tensorflow"
   ]
  },
  {
   "cell_type": "code",
   "execution_count": 5,
   "metadata": {},
   "outputs": [
    {
     "ename": "NameError",
     "evalue": "name 'tf' is not defined",
     "output_type": "error",
     "traceback": [
      "\u001b[1;31m---------------------------------------------------------------------------\u001b[0m",
      "\u001b[1;31mNameError\u001b[0m                                 Traceback (most recent call last)",
      "\u001b[1;32m<ipython-input-5-23b3d254dd2c>\u001b[0m in \u001b[0;36m<module>\u001b[1;34m\u001b[0m\n\u001b[1;32m----> 1\u001b[1;33m \u001b[0mprint\u001b[0m\u001b[1;33m(\u001b[0m\u001b[0mtf\u001b[0m\u001b[1;33m.\u001b[0m\u001b[0mreduce_sum\u001b[0m\u001b[1;33m(\u001b[0m\u001b[0mtf\u001b[0m\u001b[1;33m.\u001b[0m\u001b[0mrandom\u001b[0m\u001b[1;33m.\u001b[0m\u001b[0mnormal\u001b[0m\u001b[1;33m(\u001b[0m\u001b[1;33m[\u001b[0m\u001b[1;36m100\u001b[0m\u001b[1;33m,\u001b[0m \u001b[1;36m100\u001b[0m\u001b[1;33m]\u001b[0m\u001b[1;33m)\u001b[0m\u001b[1;33m)\u001b[0m\u001b[1;33m)\u001b[0m\u001b[1;33m\u001b[0m\u001b[1;33m\u001b[0m\u001b[0m\n\u001b[0m",
      "\u001b[1;31mNameError\u001b[0m: name 'tf' is not defined"
     ]
    }
   ],
   "source": [
    "print(tf.reduce_sum(tf.random.normal([100, 100])))"
   ]
  },
  {
   "cell_type": "code",
   "execution_count": 8,
   "metadata": {},
   "outputs": [
    {
     "name": "stdout",
     "output_type": "stream",
     "text": [
      "Requirement already satisfied: nltk in c:\\users\\muhammad arham\\appdata\\roaming\\python\\python38\\site-packages (3.5)\n",
      "Requirement already satisfied: tqdm in c:\\users\\muhammad arham\\appdata\\roaming\\python\\python38\\site-packages (from nltk) (4.59.0)\n",
      "Requirement already satisfied: regex in c:\\users\\muhammad arham\\appdata\\roaming\\python\\python38\\site-packages (from nltk) (2020.11.13)\n",
      "Requirement already satisfied: click in c:\\users\\muhammad arham\\appdata\\roaming\\python\\python38\\site-packages (from nltk) (7.1.2)\n",
      "Requirement already satisfied: joblib in c:\\users\\muhammad arham\\appdata\\roaming\\python\\python38\\site-packages (from nltk) (1.0.1)\n"
     ]
    }
   ],
   "source": [
    "!pip install --user -U nltk"
   ]
  },
  {
   "cell_type": "code",
   "execution_count": 9,
   "metadata": {},
   "outputs": [
    {
     "name": "stdout",
     "output_type": "stream",
     "text": [
      "Requirement already satisfied: nltk in c:\\users\\muhammad arham\\appdata\\roaming\\python\\python38\\site-packages (3.5)\n",
      "Requirement already satisfied: joblib in c:\\users\\muhammad arham\\appdata\\roaming\\python\\python38\\site-packages (from nltk) (1.0.1)\n",
      "Requirement already satisfied: regex in c:\\users\\muhammad arham\\appdata\\roaming\\python\\python38\\site-packages (from nltk) (2020.11.13)\n",
      "Requirement already satisfied: click in c:\\users\\muhammad arham\\appdata\\roaming\\python\\python38\\site-packages (from nltk) (7.1.2)\n",
      "Requirement already satisfied: tqdm in c:\\users\\muhammad arham\\appdata\\roaming\\python\\python38\\site-packages (from nltk) (4.59.0)\n"
     ]
    }
   ],
   "source": [
    "!pip install -U nltk"
   ]
  },
  {
   "cell_type": "code",
   "execution_count": 10,
   "metadata": {},
   "outputs": [
    {
     "name": "stdout",
     "output_type": "stream",
     "text": [
      "Requirement already satisfied: nltk in c:\\users\\muhammad arham\\appdata\\roaming\\python\\python38\\site-packages (3.5)\n",
      "Requirement already satisfied: click in c:\\users\\muhammad arham\\appdata\\roaming\\python\\python38\\site-packages (from nltk) (7.1.2)\n",
      "Requirement already satisfied: joblib in c:\\users\\muhammad arham\\appdata\\roaming\\python\\python38\\site-packages (from nltk) (1.0.1)\n",
      "Requirement already satisfied: regex in c:\\users\\muhammad arham\\appdata\\roaming\\python\\python38\\site-packages (from nltk) (2020.11.13)\n",
      "Requirement already satisfied: tqdm in c:\\users\\muhammad arham\\appdata\\roaming\\python\\python38\\site-packages (from nltk) (4.59.0)\n"
     ]
    }
   ],
   "source": [
    "!pip install nltk"
   ]
  },
  {
   "cell_type": "code",
   "execution_count": 11,
   "metadata": {},
   "outputs": [
    {
     "name": "stdout",
     "output_type": "stream",
     "text": [
      "Requirement already satisfied: Keras in c:\\users\\muhammad arham\\anaconda3\\lib\\site-packages (2.4.3)\n",
      "Requirement already satisfied: pyyaml in c:\\users\\muhammad arham\\anaconda3\\lib\\site-packages (from Keras) (5.3.1)\n",
      "Requirement already satisfied: scipy>=0.14 in c:\\users\\muhammad arham\\anaconda3\\lib\\site-packages (from Keras) (1.5.2)\n",
      "Requirement already satisfied: h5py in c:\\users\\muhammad arham\\anaconda3\\lib\\site-packages (from Keras) (2.10.0)\n",
      "Requirement already satisfied: numpy>=1.9.1 in c:\\users\\muhammad arham\\anaconda3\\lib\\site-packages (from Keras) (1.19.2)\n",
      "Requirement already satisfied: six in c:\\users\\muhammad arham\\anaconda3\\lib\\site-packages (from h5py->Keras) (1.15.0)\n"
     ]
    }
   ],
   "source": [
    "!pip install Keras"
   ]
  },
  {
   "cell_type": "markdown",
   "metadata": {},
   "source": [
    "# ChatBot Code"
   ]
  },
  {
   "cell_type": "markdown",
   "metadata": {},
   "source": [
    "## Importing Libraries"
   ]
  },
  {
   "cell_type": "code",
   "execution_count": 12,
   "metadata": {},
   "outputs": [],
   "source": [
    "import tensorflow as tf"
   ]
  },
  {
   "cell_type": "code",
   "execution_count": 13,
   "metadata": {},
   "outputs": [
    {
     "name": "stderr",
     "output_type": "stream",
     "text": [
      "[nltk_data] Downloading package punkt to C:\\Users\\Muhammad\n",
      "[nltk_data]     Arham\\AppData\\Roaming\\nltk_data...\n",
      "[nltk_data]   Package punkt is already up-to-date!\n",
      "[nltk_data] Downloading package wordnet to C:\\Users\\Muhammad\n",
      "[nltk_data]     Arham\\AppData\\Roaming\\nltk_data...\n",
      "[nltk_data]   Package wordnet is already up-to-date!\n"
     ]
    }
   ],
   "source": [
    "import nltk\n",
    "nltk.download('punkt')\n",
    "nltk.download('wordnet')\n",
    "from nltk.stem import WordNetLemmatizer\n",
    "lemmatizer = WordNetLemmatizer()\n",
    "import json\n",
    "import pickle\n",
    "\n",
    "import numpy as np\n",
    "from keras.models import Sequential\n",
    "from keras.layers import Dense, Activation, Dropout\n",
    "from keras.optimizers import SGD\n",
    "import random"
   ]
  },
  {
   "cell_type": "markdown",
   "metadata": {},
   "source": [
    "## Initializing Chatbot Training"
   ]
  },
  {
   "cell_type": "code",
   "execution_count": 15,
   "metadata": {},
   "outputs": [],
   "source": [
    "words=[]\n",
    "classes = []\n",
    "documents = []\n",
    "ignore_words = ['?', '!']\n",
    "data_file = open(r'C:\\\\Users\\\\Muhammad Arham\\\\Desktop\\\\UNIVERSITY ADMISSIONS ASSISTANT CHATBOT\\\\intents_edited.json').read()\n",
    "intents = json.loads(data_file)"
   ]
  },
  {
   "cell_type": "code",
   "execution_count": 16,
   "metadata": {},
   "outputs": [],
   "source": [
    "for intent in intents['intents']:\n",
    "    for pattern in intent['patterns']:\n",
    "\n",
    "        # take each word and tokenize it\n",
    "        w = nltk.word_tokenize(pattern)\n",
    "        words.extend(w)\n",
    "        # adding documents\n",
    "        documents.append((w, intent['tag']))\n",
    "\n",
    "        # adding classes to our class list\n",
    "        if intent['tag'] not in classes:\n",
    "            classes.append(intent['tag'])"
   ]
  },
  {
   "cell_type": "code",
   "execution_count": 17,
   "metadata": {},
   "outputs": [
    {
     "name": "stdout",
     "output_type": "stream",
     "text": [
      "628 documents\n",
      "23 classes ['1000-1050', '500-550', '551-600', '601-650', '650-700', '700-750', '750-800', '800-850', '850-900', '900-950', '950-1000', 'Intermediate', 'Matric', 'adverse_drug', 'blood_pressure', 'blood_pressure_search', 'bye', 'goodbye', 'greeting', 'hospital_search', 'options', 'pharmacy_search', 'thanks']\n",
      "660 unique lemmatized words [\"'m\", \"'s\", ',', '10', '1000', '1001', '1002', '1003', '1004', '1005', '1006', '1007', '1008', '1009', '1010', '1011', '1012', '1013', '1014', '1015', '1016', '1017', '1018', '1019', '1020', '1021', '1022', '1023', '1024', '1025', '1026', '1027', '1028', '1029', '1030', '1031', '1032', '1033', '1034', '1035', '1036', '1037', '1038', '1039', '1040', '1041', '1042', '1043', '1044', '1045', '1046', '1047', '1048', '1049', '1050', '10th', '12', '12th', '500', '501', '502', '503', '504', '505', '506', '507', '508', '509', '510', '511', '512', '513', '514', '515', '516', '517', '518', '519', '520', '521', '522', '523', '524', '525', '526', '527', '528', '529', '530', '531', '532', '533', '534', '535', '536', '537', '538', '539', '540', '541', '542', '543', '544', '545', '546', '547', '548', '549', '550', '551', '552', '553', '554', '555', '556', '557', '558', '559', '560', '561', '562', '563', '564', '565', '566', '567', '568', '569', '570', '571', '572', '573', '574', '575', '576', '577', '578', '579', '580', '581', '582', '583', '584', '585', '586', '587', '588', '589', '590', '591', '592', '593', '594', '595', '596', '597', '598', '599', '600', '601', '602', '603', '604', '605', '606', '607', '608', '609', '610', '611', '612', '613', '614', '615', '616', '617', '618', '619', '620', '621', '622', '623', '624', '625', '626', '627', '628', '629', '630', '631', '632', '633', '634', '635', '636', '637', '638', '639', '640', '641', '642', '643', '644', '645', '646', '647', '648', '649', '650', '651', '652', '653', '654', '655', '656', '657', '658', '659', '660', '661', '662', '663', '664', '665', '666', '667', '668', '669', '670', '671', '672', '673', '674', '675', '676', '677', '678', '679', '680', '681', '682', '683', '684', '685', '686', '687', '688', '689', '690', '691', '692', '693', '694', '695', '696', '697', '698', '699', '700', '701', '702', '703', '704', '705', '706', '707', '708', '709', '710', '711', '712', '713', '714', '715', '716', '717', '718', '719', '720', '721', '722', '723', '724', '725', '726', '727', '728', '729', '730', '731', '732', '733', '734', '735', '736', '737', '738', '739', '740', '741', '742', '743', '744', '745', '746', '747', '748', '749', '750', '751', '752', '753', '754', '755', '756', '757', '758', '759', '760', '761', '762', '763', '764', '765', '766', '767', '768', '769', '770', '771', '772', '773', '774', '775', '776', '777', '778', '779', '780', '781', '782', '783', '784', '785', '786', '787', '788', '789', '790', '791', '792', '793', '794', '795', '796', '797', '798', '799', '800', '801', '802', '803', '804', '805', '806', '807', '808', '809', '810', '811', '812', '813', '814', '815', '816', '817', '818', '819', '820', '821', '822', '823', '824', '825', '826', '827', '828', '829', '830', '831', '832', '833', '834', '835', '836', '837', '838', '839', '840', '841', '842', '843', '844', '845', '846', '847', '848', '849', '850', '851', '852', '853', '854', '855', '856', '857', '858', '859', '860', '861', '862', '863', '864', '865', '866', '867', '868', '869', '870', '871', '872', '873', '874', '875', '876', '877', '878', '879', '880', '881', '882', '883', '884', '885', '886', '887', '888', '889', '890', '891', '892', '893', '894', '895', '896', '897', '898', '899', '900', '901', '902', '903', '904', '905', '906', '907', '908', '909', '910', '911', '912', '913', '914', '915', '916', '917', '918', '919', '920', '921', '922', '923', '924', '925', '926', '927', '928', '929', '930', '931', '932', '933', '934', '935', '936', '937', '938', '939', '940', '941', '942', '943', '944', '945', '946', '947', '948', '949', '950', '951', '952', '953', '954', '955', '956', '957', '958', '959', '960', '961', '962', '963', '964', '965', '966', '967', '968', '969', '970', '971', '972', '973', '974', '975', '976', '977', '978', '979', '980', '981', '982', '983', '984', '985', '986', '987', '988', '989', '990', '991', '992', '993', '994', '995', '996', '997', '998', '999', 'a', 'adverse', 'all', 'anyone', 'aoa', 'are', 'assalamuallykum', 'awesome', 'be', 'behavior', 'blood', 'by', 'bye', 'can', 'causing', 'chatting', 'check', 'could', 'data', 'day', 'detail', 'do', 'done', 'dont', 'drug', 'engineering', 'entry', 'find', 'for', 'fsc', 'give', 'good', 'goodbye', 'have', 'hello', 'help', 'helpful', 'helping', 'hey', 'hi', 'history', 'hola', 'hospital', 'how', 'hssc', 'i', 'id', 'inter', 'intermediate', 'is', 'later', 'list', 'load', 'locate', 'log', 'looking', 'lookup', 'management', 'matrc', 'matric', 'me', 'medical', 'metric', 'module', 'nearby', 'next', 'nice', 'of', 'offered', 'open', 'patient', 'pharmacy', 'pre', 'preengineering', 'premedical', 'pressure', 'provide', 'reaction', 'related', 'result', 'search', 'searching', 'see', 'show', 'ssc', 'suitable', 'support', 'task', 'thank', 'thanks', 'that', 'there', 'till', 'time', 'to', 'transfer', 'up', 'want', 'what', 'which', 'with', 'you']\n"
     ]
    }
   ],
   "source": [
    "words = [lemmatizer.lemmatize(w.lower()) for w in words if w not in ignore_words]\n",
    "words = sorted(list(set(words)))\n",
    "\n",
    "classes = sorted(list(set(classes)))\n",
    "\n",
    "print (len(documents), \"documents\")\n",
    "\n",
    "print (len(classes), \"classes\", classes)\n",
    "\n",
    "print (len(words), \"unique lemmatized words\", words)\n",
    "\n",
    "\n",
    "pickle.dump(words,open('words.pkl','wb'))\n",
    "pickle.dump(classes,open('classes.pkl','wb'))"
   ]
  },
  {
   "cell_type": "markdown",
   "metadata": {},
   "source": [
    "## Building the Deep Learning Model"
   ]
  },
  {
   "cell_type": "code",
   "execution_count": 18,
   "metadata": {},
   "outputs": [
    {
     "name": "stdout",
     "output_type": "stream",
     "text": [
      "Training data created\n"
     ]
    },
    {
     "name": "stderr",
     "output_type": "stream",
     "text": [
      "<ipython-input-18-1a891a7a8859>:22: VisibleDeprecationWarning: Creating an ndarray from ragged nested sequences (which is a list-or-tuple of lists-or-tuples-or ndarrays with different lengths or shapes) is deprecated. If you meant to do this, you must specify 'dtype=object' when creating the ndarray\n",
      "  training = np.array(training)\n"
     ]
    }
   ],
   "source": [
    "# initializing training data\n",
    "training = []\n",
    "output_empty = [0] * len(classes)\n",
    "for doc in documents:\n",
    "    # initializing bag of words\n",
    "    bag = []\n",
    "    # list of tokenized words for the pattern\n",
    "    pattern_words = doc[0]\n",
    "    # lemmatize each word - create base word, in attempt to represent related words\n",
    "    pattern_words = [lemmatizer.lemmatize(word.lower()) for word in pattern_words]\n",
    "    # create our bag of words array with 1, if word match found in current pattern\n",
    "    for w in words:\n",
    "        bag.append(1) if w in pattern_words else bag.append(0)\n",
    "\n",
    "    # output is a '0' for each tag and '1' for current tag (for each pattern)\n",
    "    output_row = list(output_empty)\n",
    "    output_row[classes.index(doc[1])] = 1\n",
    "\n",
    "    training.append([bag, output_row])\n",
    "# shuffle our features and turn into np.array\n",
    "random.shuffle(training)\n",
    "training = np.array(training)\n",
    "# create train and test lists. X - patterns, Y - intents\n",
    "train_x = list(training[:,0])\n",
    "train_y = list(training[:,1])\n",
    "print(\"Training data created\")"
   ]
  },
  {
   "cell_type": "code",
   "execution_count": 19,
   "metadata": {},
   "outputs": [
    {
     "name": "stdout",
     "output_type": "stream",
     "text": [
      "Epoch 1/200\n",
      "126/126 [==============================] - 1s 2ms/step - loss: 3.0608 - accuracy: 0.0497\n",
      "Epoch 2/200\n",
      "126/126 [==============================] - 0s 1ms/step - loss: 2.8518 - accuracy: 0.1053\n",
      "Epoch 3/200\n",
      "126/126 [==============================] - 0s 1ms/step - loss: 2.7893 - accuracy: 0.0916\n",
      "Epoch 4/200\n",
      "126/126 [==============================] - 0s 2ms/step - loss: 2.7724 - accuracy: 0.0732\n",
      "Epoch 5/200\n",
      "126/126 [==============================] - 0s 1ms/step - loss: 2.7261 - accuracy: 0.0966\n",
      "Epoch 6/200\n",
      "126/126 [==============================] - 0s 1ms/step - loss: 2.6951 - accuracy: 0.0907\n",
      "Epoch 7/200\n",
      "126/126 [==============================] - 0s 2ms/step - loss: 2.6574 - accuracy: 0.1000\n",
      "Epoch 8/200\n",
      "126/126 [==============================] - 0s 2ms/step - loss: 2.6061 - accuracy: 0.0998\n",
      "Epoch 9/200\n",
      "126/126 [==============================] - 0s 2ms/step - loss: 2.5694 - accuracy: 0.1091\n",
      "Epoch 10/200\n",
      "126/126 [==============================] - 0s 1ms/step - loss: 2.5481 - accuracy: 0.1268\n",
      "Epoch 11/200\n",
      "126/126 [==============================] - 0s 1ms/step - loss: 2.4623 - accuracy: 0.1461\n",
      "Epoch 12/200\n",
      "126/126 [==============================] - 0s 2ms/step - loss: 2.3861 - accuracy: 0.1641\n",
      "Epoch 13/200\n",
      "126/126 [==============================] - 0s 2ms/step - loss: 2.3404 - accuracy: 0.1862\n",
      "Epoch 14/200\n",
      "126/126 [==============================] - 0s 2ms/step - loss: 2.3021 - accuracy: 0.2130\n",
      "Epoch 15/200\n",
      "126/126 [==============================] - 0s 2ms/step - loss: 2.1541 - accuracy: 0.2529\n",
      "Epoch 16/200\n",
      "126/126 [==============================] - 0s 1ms/step - loss: 2.0159 - accuracy: 0.3277\n",
      "Epoch 17/200\n",
      "126/126 [==============================] - 0s 2ms/step - loss: 1.8731 - accuracy: 0.3895\n",
      "Epoch 18/200\n",
      "126/126 [==============================] - 0s 2ms/step - loss: 1.6782 - accuracy: 0.4750\n",
      "Epoch 19/200\n",
      "126/126 [==============================] - 0s 2ms/step - loss: 1.5604 - accuracy: 0.4740\n",
      "Epoch 20/200\n",
      "126/126 [==============================] - 0s 2ms/step - loss: 1.3000 - accuracy: 0.5707\n",
      "Epoch 21/200\n",
      "126/126 [==============================] - 0s 1ms/step - loss: 1.1435 - accuracy: 0.6310\n",
      "Epoch 22/200\n",
      "126/126 [==============================] - 0s 2ms/step - loss: 0.9815 - accuracy: 0.7109\n",
      "Epoch 23/200\n",
      "126/126 [==============================] - 0s 2ms/step - loss: 0.8494 - accuracy: 0.7262\n",
      "Epoch 24/200\n",
      "126/126 [==============================] - 0s 2ms/step - loss: 0.8070 - accuracy: 0.7315\n",
      "Epoch 25/200\n",
      "126/126 [==============================] - 0s 2ms/step - loss: 0.7823 - accuracy: 0.7517\n",
      "Epoch 26/200\n",
      "126/126 [==============================] - 0s 2ms/step - loss: 0.7352 - accuracy: 0.7785\n",
      "Epoch 27/200\n",
      "126/126 [==============================] - 0s 2ms/step - loss: 0.6244 - accuracy: 0.8160\n",
      "Epoch 28/200\n",
      "126/126 [==============================] - 0s 2ms/step - loss: 0.4453 - accuracy: 0.8810\n",
      "Epoch 29/200\n",
      "126/126 [==============================] - 0s 2ms/step - loss: 0.5195 - accuracy: 0.8557\n",
      "Epoch 30/200\n",
      "126/126 [==============================] - 0s 2ms/step - loss: 0.4869 - accuracy: 0.8438\n",
      "Epoch 31/200\n",
      "126/126 [==============================] - 0s 2ms/step - loss: 0.4732 - accuracy: 0.8352\n",
      "Epoch 32/200\n",
      "126/126 [==============================] - 0s 2ms/step - loss: 0.3812 - accuracy: 0.8836\n",
      "Epoch 33/200\n",
      "126/126 [==============================] - 0s 2ms/step - loss: 0.3774 - accuracy: 0.8878\n",
      "Epoch 34/200\n",
      "126/126 [==============================] - 0s 2ms/step - loss: 0.3525 - accuracy: 0.8867\n",
      "Epoch 35/200\n",
      "126/126 [==============================] - 0s 2ms/step - loss: 0.3295 - accuracy: 0.8892\n",
      "Epoch 36/200\n",
      "126/126 [==============================] - 0s 2ms/step - loss: 0.3265 - accuracy: 0.9056\n",
      "Epoch 37/200\n",
      "126/126 [==============================] - 0s 2ms/step - loss: 0.3117 - accuracy: 0.9044\n",
      "Epoch 38/200\n",
      "126/126 [==============================] - 0s 2ms/step - loss: 0.2712 - accuracy: 0.9146\n",
      "Epoch 39/200\n",
      "126/126 [==============================] - 0s 2ms/step - loss: 0.2414 - accuracy: 0.9211\n",
      "Epoch 40/200\n",
      "126/126 [==============================] - 0s 2ms/step - loss: 0.2548 - accuracy: 0.9274\n",
      "Epoch 41/200\n",
      "126/126 [==============================] - 0s 2ms/step - loss: 0.2137 - accuracy: 0.9383\n",
      "Epoch 42/200\n",
      "126/126 [==============================] - 0s 2ms/step - loss: 0.2399 - accuracy: 0.9101\n",
      "Epoch 43/200\n",
      "126/126 [==============================] - 0s 3ms/step - loss: 0.2479 - accuracy: 0.9220\n",
      "Epoch 44/200\n",
      "126/126 [==============================] - 0s 3ms/step - loss: 0.2130 - accuracy: 0.9397\n",
      "Epoch 45/200\n",
      "126/126 [==============================] - 0s 2ms/step - loss: 0.1978 - accuracy: 0.9479\n",
      "Epoch 46/200\n",
      "126/126 [==============================] - 0s 2ms/step - loss: 0.1959 - accuracy: 0.9443\n",
      "Epoch 47/200\n",
      "126/126 [==============================] - 0s 2ms/step - loss: 0.1980 - accuracy: 0.9367\n",
      "Epoch 48/200\n",
      "126/126 [==============================] - 0s 2ms/step - loss: 0.1341 - accuracy: 0.9642\n",
      "Epoch 49/200\n",
      "126/126 [==============================] - 0s 2ms/step - loss: 0.2153 - accuracy: 0.9428\n",
      "Epoch 50/200\n",
      "126/126 [==============================] - 0s 2ms/step - loss: 0.2182 - accuracy: 0.9302\n",
      "Epoch 51/200\n",
      "126/126 [==============================] - 0s 2ms/step - loss: 0.1655 - accuracy: 0.9480\n",
      "Epoch 52/200\n",
      "126/126 [==============================] - 0s 2ms/step - loss: 0.1723 - accuracy: 0.9514\n",
      "Epoch 53/200\n",
      "126/126 [==============================] - 0s 2ms/step - loss: 0.1607 - accuracy: 0.9462\n",
      "Epoch 54/200\n",
      "126/126 [==============================] - 0s 2ms/step - loss: 0.1030 - accuracy: 0.9694\n",
      "Epoch 55/200\n",
      "126/126 [==============================] - 0s 2ms/step - loss: 0.1381 - accuracy: 0.9670\n",
      "Epoch 56/200\n",
      "126/126 [==============================] - 0s 2ms/step - loss: 0.1657 - accuracy: 0.9407\n",
      "Epoch 57/200\n",
      "126/126 [==============================] - 0s 2ms/step - loss: 0.1420 - accuracy: 0.9574\n",
      "Epoch 58/200\n",
      "126/126 [==============================] - 0s 2ms/step - loss: 0.2027 - accuracy: 0.9288\n",
      "Epoch 59/200\n",
      "126/126 [==============================] - 0s 2ms/step - loss: 0.1269 - accuracy: 0.9792\n",
      "Epoch 60/200\n",
      "126/126 [==============================] - 0s 2ms/step - loss: 0.1365 - accuracy: 0.9629\n",
      "Epoch 61/200\n",
      "126/126 [==============================] - 0s 2ms/step - loss: 0.0894 - accuracy: 0.9742\n",
      "Epoch 62/200\n",
      "126/126 [==============================] - 0s 2ms/step - loss: 0.1283 - accuracy: 0.9556\n",
      "Epoch 63/200\n",
      "126/126 [==============================] - 0s 2ms/step - loss: 0.1292 - accuracy: 0.9604\n",
      "Epoch 64/200\n",
      "126/126 [==============================] - 0s 2ms/step - loss: 0.1112 - accuracy: 0.9654\n",
      "Epoch 65/200\n",
      "126/126 [==============================] - 0s 1ms/step - loss: 0.0861 - accuracy: 0.9755\n",
      "Epoch 66/200\n",
      "126/126 [==============================] - 0s 1ms/step - loss: 0.1068 - accuracy: 0.9689\n",
      "Epoch 67/200\n",
      "126/126 [==============================] - 0s 1ms/step - loss: 0.0854 - accuracy: 0.9780\n",
      "Epoch 68/200\n",
      "126/126 [==============================] - 0s 1ms/step - loss: 0.1243 - accuracy: 0.9523\n",
      "Epoch 69/200\n",
      "126/126 [==============================] - 0s 1ms/step - loss: 0.1838 - accuracy: 0.9432\n",
      "Epoch 70/200\n",
      "126/126 [==============================] - 0s 1ms/step - loss: 0.0752 - accuracy: 0.9824\n",
      "Epoch 71/200\n",
      "126/126 [==============================] - 0s 1ms/step - loss: 0.0908 - accuracy: 0.9687\n",
      "Epoch 72/200\n",
      "126/126 [==============================] - 0s 1ms/step - loss: 0.1266 - accuracy: 0.9599\n",
      "Epoch 73/200\n",
      "126/126 [==============================] - 0s 1ms/step - loss: 0.1123 - accuracy: 0.9581\n",
      "Epoch 74/200\n",
      "126/126 [==============================] - 0s 2ms/step - loss: 0.0891 - accuracy: 0.9759\n",
      "Epoch 75/200\n",
      "126/126 [==============================] - 0s 1ms/step - loss: 0.1020 - accuracy: 0.9646\n",
      "Epoch 76/200\n",
      "126/126 [==============================] - 0s 2ms/step - loss: 0.0942 - accuracy: 0.9632\n",
      "Epoch 77/200\n",
      "126/126 [==============================] - 0s 1ms/step - loss: 0.1271 - accuracy: 0.9612\n",
      "Epoch 78/200\n",
      "126/126 [==============================] - 0s 1ms/step - loss: 0.0722 - accuracy: 0.9782\n",
      "Epoch 79/200\n",
      "126/126 [==============================] - 0s 1ms/step - loss: 0.1269 - accuracy: 0.9516\n",
      "Epoch 80/200\n",
      "126/126 [==============================] - 0s 2ms/step - loss: 0.1194 - accuracy: 0.9550\n",
      "Epoch 81/200\n"
     ]
    },
    {
     "name": "stdout",
     "output_type": "stream",
     "text": [
      "126/126 [==============================] - 0s 2ms/step - loss: 0.1587 - accuracy: 0.9348\n",
      "Epoch 82/200\n",
      "126/126 [==============================] - 0s 2ms/step - loss: 0.0844 - accuracy: 0.9710\n",
      "Epoch 83/200\n",
      "126/126 [==============================] - 0s 2ms/step - loss: 0.0985 - accuracy: 0.9671\n",
      "Epoch 84/200\n",
      "126/126 [==============================] - 0s 2ms/step - loss: 0.0900 - accuracy: 0.9578\n",
      "Epoch 85/200\n",
      "126/126 [==============================] - 0s 2ms/step - loss: 0.0890 - accuracy: 0.9775\n",
      "Epoch 86/200\n",
      "126/126 [==============================] - 0s 2ms/step - loss: 0.0874 - accuracy: 0.9678\n",
      "Epoch 87/200\n",
      "126/126 [==============================] - 0s 2ms/step - loss: 0.1490 - accuracy: 0.9467\n",
      "Epoch 88/200\n",
      "126/126 [==============================] - 0s 2ms/step - loss: 0.1405 - accuracy: 0.9514\n",
      "Epoch 89/200\n",
      "126/126 [==============================] - 0s 2ms/step - loss: 0.1050 - accuracy: 0.9728\n",
      "Epoch 90/200\n",
      "126/126 [==============================] - 0s 2ms/step - loss: 0.1019 - accuracy: 0.9737\n",
      "Epoch 91/200\n",
      "126/126 [==============================] - 0s 2ms/step - loss: 0.1200 - accuracy: 0.9543\n",
      "Epoch 92/200\n",
      "126/126 [==============================] - 0s 2ms/step - loss: 0.0818 - accuracy: 0.9731\n",
      "Epoch 93/200\n",
      "126/126 [==============================] - 0s 2ms/step - loss: 0.0848 - accuracy: 0.9670\n",
      "Epoch 94/200\n",
      "126/126 [==============================] - 0s 2ms/step - loss: 0.0981 - accuracy: 0.9685\n",
      "Epoch 95/200\n",
      "126/126 [==============================] - 0s 2ms/step - loss: 0.1086 - accuracy: 0.9492\n",
      "Epoch 96/200\n",
      "126/126 [==============================] - 0s 2ms/step - loss: 0.0731 - accuracy: 0.9681\n",
      "Epoch 97/200\n",
      "126/126 [==============================] - 0s 2ms/step - loss: 0.0677 - accuracy: 0.9813\n",
      "Epoch 98/200\n",
      "126/126 [==============================] - 0s 2ms/step - loss: 0.0453 - accuracy: 0.9838\n",
      "Epoch 99/200\n",
      "126/126 [==============================] - 0s 2ms/step - loss: 0.1052 - accuracy: 0.9661\n",
      "Epoch 100/200\n",
      "126/126 [==============================] - 0s 2ms/step - loss: 0.0730 - accuracy: 0.9677\n",
      "Epoch 101/200\n",
      "126/126 [==============================] - 0s 2ms/step - loss: 0.0789 - accuracy: 0.9766\n",
      "Epoch 102/200\n",
      "126/126 [==============================] - 0s 2ms/step - loss: 0.1169 - accuracy: 0.9614\n",
      "Epoch 103/200\n",
      "126/126 [==============================] - 0s 2ms/step - loss: 0.0716 - accuracy: 0.9752\n",
      "Epoch 104/200\n",
      "126/126 [==============================] - 0s 2ms/step - loss: 0.0853 - accuracy: 0.9778\n",
      "Epoch 105/200\n",
      "126/126 [==============================] - 0s 2ms/step - loss: 0.0957 - accuracy: 0.9712\n",
      "Epoch 106/200\n",
      "126/126 [==============================] - 0s 2ms/step - loss: 0.0960 - accuracy: 0.9527\n",
      "Epoch 107/200\n",
      "126/126 [==============================] - 0s 2ms/step - loss: 0.0799 - accuracy: 0.9647\n",
      "Epoch 108/200\n",
      "126/126 [==============================] - 0s 2ms/step - loss: 0.0831 - accuracy: 0.9744\n",
      "Epoch 109/200\n",
      "126/126 [==============================] - 0s 2ms/step - loss: 0.0824 - accuracy: 0.9651\n",
      "Epoch 110/200\n",
      "126/126 [==============================] - 0s 2ms/step - loss: 0.0754 - accuracy: 0.9730\n",
      "Epoch 111/200\n",
      "126/126 [==============================] - 0s 2ms/step - loss: 0.0737 - accuracy: 0.9736\n",
      "Epoch 112/200\n",
      "126/126 [==============================] - 0s 2ms/step - loss: 0.0988 - accuracy: 0.9578\n",
      "Epoch 113/200\n",
      "126/126 [==============================] - 0s 2ms/step - loss: 0.0625 - accuracy: 0.9772\n",
      "Epoch 114/200\n",
      "126/126 [==============================] - 0s 2ms/step - loss: 0.0808 - accuracy: 0.9778\n",
      "Epoch 115/200\n",
      "126/126 [==============================] - 0s 2ms/step - loss: 0.0943 - accuracy: 0.9669\n",
      "Epoch 116/200\n",
      "126/126 [==============================] - 0s 3ms/step - loss: 0.0704 - accuracy: 0.9778\n",
      "Epoch 117/200\n",
      "126/126 [==============================] - 0s 3ms/step - loss: 0.0689 - accuracy: 0.9794\n",
      "Epoch 118/200\n",
      "126/126 [==============================] - 0s 2ms/step - loss: 0.0680 - accuracy: 0.9780\n",
      "Epoch 119/200\n",
      "126/126 [==============================] - 0s 2ms/step - loss: 0.0635 - accuracy: 0.9794\n",
      "Epoch 120/200\n",
      "126/126 [==============================] - 0s 2ms/step - loss: 0.0753 - accuracy: 0.9738\n",
      "Epoch 121/200\n",
      "126/126 [==============================] - 0s 2ms/step - loss: 0.0642 - accuracy: 0.9811\n",
      "Epoch 122/200\n",
      "126/126 [==============================] - 0s 2ms/step - loss: 0.0716 - accuracy: 0.9702\n",
      "Epoch 123/200\n",
      "126/126 [==============================] - 0s 2ms/step - loss: 0.0991 - accuracy: 0.9612\n",
      "Epoch 124/200\n",
      "126/126 [==============================] - 0s 2ms/step - loss: 0.1395 - accuracy: 0.9602\n",
      "Epoch 125/200\n",
      "126/126 [==============================] - 0s 2ms/step - loss: 0.0766 - accuracy: 0.9826\n",
      "Epoch 126/200\n",
      "126/126 [==============================] - 0s 2ms/step - loss: 0.0631 - accuracy: 0.9784\n",
      "Epoch 127/200\n",
      "126/126 [==============================] - 0s 2ms/step - loss: 0.0561 - accuracy: 0.9823: 0s - loss: 0.0506 - accuracy: 0.\n",
      "Epoch 128/200\n",
      "126/126 [==============================] - 0s 2ms/step - loss: 0.0679 - accuracy: 0.9811\n",
      "Epoch 129/200\n",
      "126/126 [==============================] - 0s 2ms/step - loss: 0.0726 - accuracy: 0.9685\n",
      "Epoch 130/200\n",
      "126/126 [==============================] - 0s 2ms/step - loss: 0.0930 - accuracy: 0.9659\n",
      "Epoch 131/200\n",
      "126/126 [==============================] - 0s 2ms/step - loss: 0.0728 - accuracy: 0.9777\n",
      "Epoch 132/200\n",
      "126/126 [==============================] - 0s 2ms/step - loss: 0.0718 - accuracy: 0.9681\n",
      "Epoch 133/200\n",
      "126/126 [==============================] - 0s 2ms/step - loss: 0.0929 - accuracy: 0.9624\n",
      "Epoch 134/200\n",
      "126/126 [==============================] - ETA: 0s - loss: 0.0711 - accuracy: 0.98 - 0s 2ms/step - loss: 0.0715 - accuracy: 0.9815\n",
      "Epoch 135/200\n",
      "126/126 [==============================] - 0s 2ms/step - loss: 0.0623 - accuracy: 0.9836\n",
      "Epoch 136/200\n",
      "126/126 [==============================] - 0s 2ms/step - loss: 0.0869 - accuracy: 0.9757\n",
      "Epoch 137/200\n",
      "126/126 [==============================] - 0s 2ms/step - loss: 0.1048 - accuracy: 0.9573\n",
      "Epoch 138/200\n",
      "126/126 [==============================] - 0s 2ms/step - loss: 0.0332 - accuracy: 0.9919\n",
      "Epoch 139/200\n",
      "126/126 [==============================] - 0s 2ms/step - loss: 0.0646 - accuracy: 0.9725\n",
      "Epoch 140/200\n",
      "126/126 [==============================] - 0s 2ms/step - loss: 0.0761 - accuracy: 0.9682\n",
      "Epoch 141/200\n",
      "126/126 [==============================] - 0s 2ms/step - loss: 0.0721 - accuracy: 0.9728\n",
      "Epoch 142/200\n",
      "126/126 [==============================] - 0s 2ms/step - loss: 0.0614 - accuracy: 0.9753\n",
      "Epoch 143/200\n",
      "126/126 [==============================] - 0s 2ms/step - loss: 0.0957 - accuracy: 0.9677\n",
      "Epoch 144/200\n",
      "126/126 [==============================] - 0s 2ms/step - loss: 0.0823 - accuracy: 0.9696\n",
      "Epoch 145/200\n",
      "126/126 [==============================] - 0s 2ms/step - loss: 0.0530 - accuracy: 0.9864\n",
      "Epoch 146/200\n",
      "126/126 [==============================] - 0s 2ms/step - loss: 0.0511 - accuracy: 0.9846\n",
      "Epoch 147/200\n",
      "126/126 [==============================] - 0s 2ms/step - loss: 0.1109 - accuracy: 0.9490\n",
      "Epoch 148/200\n",
      "126/126 [==============================] - 0s 2ms/step - loss: 0.0677 - accuracy: 0.9764\n",
      "Epoch 149/200\n",
      "126/126 [==============================] - 0s 2ms/step - loss: 0.0712 - accuracy: 0.9713\n",
      "Epoch 150/200\n",
      "126/126 [==============================] - 0s 2ms/step - loss: 0.0712 - accuracy: 0.9824\n",
      "Epoch 151/200\n",
      "126/126 [==============================] - 0s 2ms/step - loss: 0.0465 - accuracy: 0.9793\n",
      "Epoch 152/200\n",
      "126/126 [==============================] - 0s 2ms/step - loss: 0.0461 - accuracy: 0.9847\n",
      "Epoch 153/200\n",
      "126/126 [==============================] - 0s 2ms/step - loss: 0.0570 - accuracy: 0.9837\n",
      "Epoch 154/200\n",
      "126/126 [==============================] - 0s 2ms/step - loss: 0.0292 - accuracy: 0.9945\n",
      "Epoch 155/200\n",
      "126/126 [==============================] - 0s 2ms/step - loss: 0.0576 - accuracy: 0.9727\n",
      "Epoch 156/200\n",
      "126/126 [==============================] - 0s 2ms/step - loss: 0.0730 - accuracy: 0.9608\n",
      "Epoch 157/200\n",
      "126/126 [==============================] - 0s 2ms/step - loss: 0.0382 - accuracy: 0.9857\n",
      "Epoch 158/200\n",
      "126/126 [==============================] - 0s 2ms/step - loss: 0.0733 - accuracy: 0.9749\n",
      "Epoch 159/200\n",
      "126/126 [==============================] - 0s 2ms/step - loss: 0.0535 - accuracy: 0.9837\n",
      "Epoch 160/200\n"
     ]
    },
    {
     "name": "stdout",
     "output_type": "stream",
     "text": [
      "126/126 [==============================] - 0s 2ms/step - loss: 0.0694 - accuracy: 0.9627\n",
      "Epoch 161/200\n",
      "126/126 [==============================] - 0s 2ms/step - loss: 0.0647 - accuracy: 0.9803\n",
      "Epoch 162/200\n",
      "126/126 [==============================] - 0s 2ms/step - loss: 0.0437 - accuracy: 0.9807\n",
      "Epoch 163/200\n",
      "126/126 [==============================] - 0s 2ms/step - loss: 0.0907 - accuracy: 0.9533\n",
      "Epoch 164/200\n",
      "126/126 [==============================] - 0s 2ms/step - loss: 0.0566 - accuracy: 0.9753\n",
      "Epoch 165/200\n",
      "126/126 [==============================] - 0s 2ms/step - loss: 0.0787 - accuracy: 0.9740\n",
      "Epoch 166/200\n",
      "126/126 [==============================] - 0s 2ms/step - loss: 0.0519 - accuracy: 0.9829: 0s - loss: 0.0477 - accuracy: 0.\n",
      "Epoch 167/200\n",
      "126/126 [==============================] - 0s 2ms/step - loss: 0.0757 - accuracy: 0.9746\n",
      "Epoch 168/200\n",
      "126/126 [==============================] - 0s 2ms/step - loss: 0.0953 - accuracy: 0.9740: 0s - loss: 0.0788 - accuracy\n",
      "Epoch 169/200\n",
      "126/126 [==============================] - 0s 2ms/step - loss: 0.0855 - accuracy: 0.9683\n",
      "Epoch 170/200\n",
      "126/126 [==============================] - 0s 2ms/step - loss: 0.0714 - accuracy: 0.9707\n",
      "Epoch 171/200\n",
      "126/126 [==============================] - 0s 2ms/step - loss: 0.0725 - accuracy: 0.9730\n",
      "Epoch 172/200\n",
      "126/126 [==============================] - 0s 2ms/step - loss: 0.0680 - accuracy: 0.9749\n",
      "Epoch 173/200\n",
      "126/126 [==============================] - 0s 2ms/step - loss: 0.0479 - accuracy: 0.9860\n",
      "Epoch 174/200\n",
      "126/126 [==============================] - 0s 2ms/step - loss: 0.0455 - accuracy: 0.9847\n",
      "Epoch 175/200\n",
      "126/126 [==============================] - 0s 2ms/step - loss: 0.0667 - accuracy: 0.9816\n",
      "Epoch 176/200\n",
      "126/126 [==============================] - 0s 2ms/step - loss: 0.0303 - accuracy: 0.9884\n",
      "Epoch 177/200\n",
      "126/126 [==============================] - 0s 2ms/step - loss: 0.0622 - accuracy: 0.9810\n",
      "Epoch 178/200\n",
      "126/126 [==============================] - 0s 3ms/step - loss: 0.0598 - accuracy: 0.9852\n",
      "Epoch 179/200\n",
      "126/126 [==============================] - 0s 2ms/step - loss: 0.0978 - accuracy: 0.9669\n",
      "Epoch 180/200\n",
      "126/126 [==============================] - 0s 3ms/step - loss: 0.0534 - accuracy: 0.9898\n",
      "Epoch 181/200\n",
      "126/126 [==============================] - 0s 3ms/step - loss: 0.0521 - accuracy: 0.9773\n",
      "Epoch 182/200\n",
      "126/126 [==============================] - 0s 3ms/step - loss: 0.0447 - accuracy: 0.9795\n",
      "Epoch 183/200\n",
      "126/126 [==============================] - 0s 3ms/step - loss: 0.0335 - accuracy: 0.9853\n",
      "Epoch 184/200\n",
      "126/126 [==============================] - 0s 3ms/step - loss: 0.0373 - accuracy: 0.9874\n",
      "Epoch 185/200\n",
      "126/126 [==============================] - 0s 3ms/step - loss: 0.0300 - accuracy: 0.9857\n",
      "Epoch 186/200\n",
      "126/126 [==============================] - 0s 2ms/step - loss: 0.0483 - accuracy: 0.9768\n",
      "Epoch 187/200\n",
      "126/126 [==============================] - 0s 3ms/step - loss: 0.0505 - accuracy: 0.9786\n",
      "Epoch 188/200\n",
      "126/126 [==============================] - 0s 2ms/step - loss: 0.0491 - accuracy: 0.9860\n",
      "Epoch 189/200\n",
      "126/126 [==============================] - 0s 2ms/step - loss: 0.0587 - accuracy: 0.9683\n",
      "Epoch 190/200\n",
      "126/126 [==============================] - 0s 2ms/step - loss: 0.0622 - accuracy: 0.9696\n",
      "Epoch 191/200\n",
      "126/126 [==============================] - 0s 2ms/step - loss: 0.0380 - accuracy: 0.9861\n",
      "Epoch 192/200\n",
      "126/126 [==============================] - 0s 2ms/step - loss: 0.0637 - accuracy: 0.9653\n",
      "Epoch 193/200\n",
      "126/126 [==============================] - 0s 2ms/step - loss: 0.0246 - accuracy: 0.9903 ETA: 0s - loss: 0.0106 - accuracy: \n",
      "Epoch 194/200\n",
      "126/126 [==============================] - 0s 2ms/step - loss: 0.0461 - accuracy: 0.9852\n",
      "Epoch 195/200\n",
      "126/126 [==============================] - 0s 2ms/step - loss: 0.0372 - accuracy: 0.9859\n",
      "Epoch 196/200\n",
      "126/126 [==============================] - 0s 2ms/step - loss: 0.0587 - accuracy: 0.9790\n",
      "Epoch 197/200\n",
      "126/126 [==============================] - 0s 2ms/step - loss: 0.0376 - accuracy: 0.9883\n",
      "Epoch 198/200\n",
      "126/126 [==============================] - 0s 2ms/step - loss: 0.0411 - accuracy: 0.9870\n",
      "Epoch 199/200\n",
      "126/126 [==============================] - 0s 2ms/step - loss: 0.0587 - accuracy: 0.9754\n",
      "Epoch 200/200\n",
      "126/126 [==============================] - 0s 2ms/step - loss: 0.0466 - accuracy: 0.9849\n",
      "your model created\n"
     ]
    }
   ],
   "source": [
    "# Create model - 3 layers. First layer 128 neurons, second layer 64 neurons and 3rd output layer contains number of neurons\n",
    "# equal to number of intents to predict output intent with softmax\n",
    "model = Sequential()\n",
    "model.add(Dense(128, input_shape=(len(train_x[0]),), activation='relu'))\n",
    "model.add(Dropout(0.5))\n",
    "model.add(Dense(64, activation='relu'))\n",
    "model.add(Dropout(0.5))\n",
    "model.add(Dense(len(train_y[0]), activation='softmax'))\n",
    "\n",
    "# Compile model. Stochastic gradient descent with Nesterov accelerated gradient gives good results for this model\n",
    "sgd = SGD(lr=0.01, decay=1e-6, momentum=0.9, nesterov=True)\n",
    "model.compile(loss='categorical_crossentropy', optimizer=sgd, metrics=['accuracy'])\n",
    "\n",
    "#fitting and saving the model\n",
    "hist = model.fit(np.array(train_x), np.array(train_y), epochs=200, batch_size=5, verbose=1)\n",
    "model.save('chatbot_model.h5', hist)\n",
    "\n",
    "print(\"your model created\")"
   ]
  },
  {
   "cell_type": "markdown",
   "metadata": {},
   "source": [
    "## Building Chatbot GUI"
   ]
  },
  {
   "cell_type": "code",
   "execution_count": 20,
   "metadata": {},
   "outputs": [
    {
     "ename": "FileNotFoundError",
     "evalue": "[Errno 2] No such file or directory: 'C:\\\\\\\\Users\\\\\\\\Muhammad Arham\\\\\\\\Desktop\\\\\\\\on laptop chatbot\\\\\\\\Python Chatbot\\\\\\\\intents_edited.json'",
     "output_type": "error",
     "traceback": [
      "\u001b[1;31m---------------------------------------------------------------------------\u001b[0m",
      "\u001b[1;31mFileNotFoundError\u001b[0m                         Traceback (most recent call last)",
      "\u001b[1;32m<ipython-input-20-655c152a1341>\u001b[0m in \u001b[0;36m<module>\u001b[1;34m\u001b[0m\n\u001b[0;32m      3\u001b[0m \u001b[1;32mimport\u001b[0m \u001b[0mjson\u001b[0m\u001b[1;33m\u001b[0m\u001b[1;33m\u001b[0m\u001b[0m\n\u001b[0;32m      4\u001b[0m \u001b[1;32mimport\u001b[0m \u001b[0mrandom\u001b[0m\u001b[1;33m\u001b[0m\u001b[1;33m\u001b[0m\u001b[0m\n\u001b[1;32m----> 5\u001b[1;33m \u001b[0mintents\u001b[0m \u001b[1;33m=\u001b[0m \u001b[0mjson\u001b[0m\u001b[1;33m.\u001b[0m\u001b[0mloads\u001b[0m\u001b[1;33m(\u001b[0m\u001b[0mopen\u001b[0m\u001b[1;33m(\u001b[0m\u001b[1;34mr'C:\\\\Users\\\\Muhammad Arham\\\\Desktop\\\\on laptop chatbot\\\\Python Chatbot\\\\intents_edited.json'\u001b[0m\u001b[1;33m)\u001b[0m\u001b[1;33m.\u001b[0m\u001b[0mread\u001b[0m\u001b[1;33m(\u001b[0m\u001b[1;33m)\u001b[0m\u001b[1;33m)\u001b[0m\u001b[1;33m\u001b[0m\u001b[1;33m\u001b[0m\u001b[0m\n\u001b[0m\u001b[0;32m      6\u001b[0m \u001b[0mwords\u001b[0m \u001b[1;33m=\u001b[0m \u001b[0mpickle\u001b[0m\u001b[1;33m.\u001b[0m\u001b[0mload\u001b[0m\u001b[1;33m(\u001b[0m\u001b[0mopen\u001b[0m\u001b[1;33m(\u001b[0m\u001b[1;34m'words.pkl'\u001b[0m\u001b[1;33m,\u001b[0m\u001b[1;34m'rb'\u001b[0m\u001b[1;33m)\u001b[0m\u001b[1;33m)\u001b[0m\u001b[1;33m\u001b[0m\u001b[1;33m\u001b[0m\u001b[0m\n\u001b[0;32m      7\u001b[0m \u001b[0mclasses\u001b[0m \u001b[1;33m=\u001b[0m \u001b[0mpickle\u001b[0m\u001b[1;33m.\u001b[0m\u001b[0mload\u001b[0m\u001b[1;33m(\u001b[0m\u001b[0mopen\u001b[0m\u001b[1;33m(\u001b[0m\u001b[1;34m'classes.pkl'\u001b[0m\u001b[1;33m,\u001b[0m\u001b[1;34m'rb'\u001b[0m\u001b[1;33m)\u001b[0m\u001b[1;33m)\u001b[0m\u001b[1;33m\u001b[0m\u001b[1;33m\u001b[0m\u001b[0m\n",
      "\u001b[1;31mFileNotFoundError\u001b[0m: [Errno 2] No such file or directory: 'C:\\\\\\\\Users\\\\\\\\Muhammad Arham\\\\\\\\Desktop\\\\\\\\on laptop chatbot\\\\\\\\Python Chatbot\\\\\\\\intents_edited.json'"
     ]
    }
   ],
   "source": [
    "from keras.models import load_model\n",
    "model = load_model('chatbot_model.h5')\n",
    "import json\n",
    "import random\n",
    "intents = json.loads(open(r'C:\\\\Users\\\\Muhammad Arham\\\\Desktop\\\\UNIVERSITY ADMISSIONS ASSISTANT CHATBOT\\\\intents_edited.json').read())\n",
    "words = pickle.load(open('words.pkl','rb'))\n",
    "classes = pickle.load(open('classes.pkl','rb'))"
   ]
  },
  {
   "cell_type": "code",
   "execution_count": null,
   "metadata": {},
   "outputs": [],
   "source": [
    "\n",
    "def clean_up_sentence(sentence):\n",
    "    sentence_words = nltk.word_tokenize(sentence)\n",
    "    sentence_words = [lemmatizer.lemmatize(word.lower()) for word in sentence_words]\n",
    "    return sentence_words\n",
    "\n",
    "# return bag of words array: 0 or 1 for each word in the bag that exists in the sentence\n",
    "\n",
    "def bow(sentence, words, show_details=True):\n",
    "    # tokenize the pattern\n",
    "    sentence_words = clean_up_sentence(sentence)\n",
    "    # bag of words - matrix of N words, vocabulary matrix\n",
    "    bag = [0]*len(words)\n",
    "    for s in sentence_words:\n",
    "        for i,w in enumerate(words):\n",
    "            if w == s:\n",
    "                # assign 1 if current word is in the vocabulary position\n",
    "                bag[i] = 1\n",
    "                if show_details:\n",
    "                    print (\"found in bag: %s\" % w)\n",
    "    return(np.array(bag))\n",
    "\n",
    "def predict_class(sentence, model):\n",
    "    # filter out predictions below a threshold\n",
    "    p = bow(sentence, words,show_details=False)\n",
    "    res = model.predict(np.array([p]))[0]\n",
    "    ERROR_THRESHOLD = 0.25\n",
    "    results = [[i,r] for i,r in enumerate(res) if r>ERROR_THRESHOLD]\n",
    "    # sort by strength of probability\n",
    "    results.sort(key=lambda x: x[1], reverse=True)\n",
    "    return_list = []\n",
    "    for r in results:\n",
    "        return_list.append({\"intent\": classes[r[0]], \"probability\": str(r[1])})\n",
    "    return return_list\n",
    "\n",
    "def getResponse(ints, intents_json):\n",
    "    tag = ints[0]['intent']\n",
    "    list_of_intents = intents_json['intents']\n",
    "    for i in list_of_intents:\n",
    "        if(i['tag']== tag):\n",
    "            result = random.choice(i['responses'])\n",
    "            break\n",
    "    return result\n",
    "\n",
    "def chatbot_response(msg):\n",
    "    ints = predict_class(msg, model)\n",
    "    res = getResponse(ints, intents)\n",
    "    return res"
   ]
  },
  {
   "cell_type": "markdown",
   "metadata": {},
   "source": [
    "## Creating GUI with tkinter"
   ]
  },
  {
   "cell_type": "code",
   "execution_count": 21,
   "metadata": {},
   "outputs": [
    {
     "name": "stderr",
     "output_type": "stream",
     "text": [
      "Exception in Tkinter callback\n",
      "Traceback (most recent call last):\n",
      "  File \"C:\\Users\\Muhammad Arham\\anaconda3\\lib\\tkinter\\__init__.py\", line 1883, in __call__\n",
      "    return self.func(*args)\n",
      "  File \"<ipython-input-21-d101b0817c57>\", line 15, in send\n",
      "    res = chatbot_response(msg)\n",
      "NameError: name 'chatbot_response' is not defined\n"
     ]
    }
   ],
   "source": [
    "#Creating GUI with tkinter\n",
    "import tkinter\n",
    "from tkinter import *\n",
    "\n",
    "\n",
    "def send():\n",
    "    msg = EntryBox.get(\"1.0\",'end-1c').strip()\n",
    "    EntryBox.delete(\"0.0\",END)\n",
    "\n",
    "    if msg != '':\n",
    "        ChatLog.config(state=NORMAL)\n",
    "        ChatLog.insert(END, \"You: \" + msg + '\\n\\n')\n",
    "        ChatLog.config(foreground=\"#442265\", font=(\"Verdana\", 12 ))\n",
    "\n",
    "        res = chatbot_response(msg)\n",
    "        ChatLog.insert(END, \"Bot: \" + res + '\\n\\n')\n",
    "\n",
    "        ChatLog.config(state=DISABLED)\n",
    "        ChatLog.yview(END)\n",
    "\n",
    "\n",
    "base = Tk()\n",
    "base.title(\"UNIVERSITY ADMISSIONS ASSISTANT\")\n",
    "base.geometry(\"400x500\")\n",
    "base.resizable(width=FALSE, height=FALSE)\n",
    "\n",
    "#Create Chat window\n",
    "ChatLog = Text(base, bd=0, bg=\"white\", height=\"10\", width=\"60\", font=\"Arial\",)\n",
    "\n",
    "ChatLog.config(state=DISABLED)\n",
    "\n",
    "#Bind scrollbar to Chat window\n",
    "scrollbar = Scrollbar(base, command=ChatLog.yview, cursor=\"heart\")\n",
    "ChatLog['yscrollcommand'] = scrollbar.set\n",
    "\n",
    "#Create Button to send message\n",
    "SendButton = Button(base, font=(\"Verdana\",12,'bold'), text=\"Send\", width=\"12\", height=3,\n",
    "                    bd=0, bg=\"#32de97\", activebackground=\"#3c9d9b\",fg='#ffffff',\n",
    "                    command= send )\n",
    "\n",
    "#Create Button to send message\n",
    "# SendButton = Button(base, font=(\"Verdana\",12,'bold'), text=\"Send\", width=\"12\", height=5,\n",
    "#                     bd=0, bg=\"#23a828\", activebackground=\"#23a828\",fg='#874113',\n",
    "#                     command= send )\n",
    "\n",
    "#Create the box to enter message\n",
    "EntryBox = Text(base, bd=0, bg=\"white\",width=\"50\", height=\"3\", font=\"Arial\")\n",
    "#EntryBox.bind(\"<Return>\", send)\n",
    "\n",
    "\n",
    "#Place all components on the screen\n",
    "scrollbar.place(x=376,y=6, height=386)\n",
    "ChatLog.place(x=6,y=6, height=386, width=370)\n",
    "EntryBox.place(x=128, y=401, height=90, width=265)\n",
    "SendButton.place(x=6, y=401, height=90)\n",
    "\n",
    "base.mainloop()"
   ]
  },
  {
   "cell_type": "markdown",
   "metadata": {},
   "source": [
    "##### "
   ]
  },
  {
   "cell_type": "markdown",
   "metadata": {},
   "source": [
    "--------------------------------------------------------"
   ]
  }
 ],
 "metadata": {
  "kernelspec": {
   "display_name": "Python 3",
   "language": "python",
   "name": "python3"
  },
  "language_info": {
   "codemirror_mode": {
    "name": "ipython",
    "version": 3
   },
   "file_extension": ".py",
   "mimetype": "text/x-python",
   "name": "python",
   "nbconvert_exporter": "python",
   "pygments_lexer": "ipython3",
   "version": "3.8.5"
  }
 },
 "nbformat": 4,
 "nbformat_minor": 4
}
